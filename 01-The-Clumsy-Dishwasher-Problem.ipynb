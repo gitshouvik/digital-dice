{
 "cells": [
  {
   "cell_type": "code",
   "execution_count": 3,
   "id": "9a76f0e4-01e8-4738-9a5b-246b7d560a81",
   "metadata": {},
   "outputs": [],
   "source": [
    "# we will use the tqdm progress bar\n",
    "from tqdm.auto import tqdm,trange"
   ]
  },
  {
   "cell_type": "markdown",
   "id": "bb5b473e-53d4-43fb-9346-d9f5b43ca33b",
   "metadata": {},
   "source": [
    "## 1. Clumsy dishwasher problem\n",
    "\n",
    "Suppose a restaurant employs five dishwashers (as in persons who wash dishes, not the 21st century machines). In a one-week interval\n",
    "they break five dishes, with four breakages due to the same individual.\n",
    "His colleagues thereafter call him “clumsy,’’ but he claims it was just\n",
    "bad luck and could have happened to any one of them. The problem\n",
    "here is to see if he has some valid mathematical support for his\n",
    "position. First, see if you can calculate the probability that the same\n",
    "dishwasher breaks at least four of the five dishes that are broken (this\n",
    "includes, of course, the event of his breaking all five). It’s an easy\n",
    "combinatorial calculation. Assume the dishwashers are equally skilled\n",
    "and have identical workloads, and that the breaking of a dish is a\n",
    "truly random event. If this probability is small, then the hypothesis\n",
    "that the given dishwasher actually is clumsy is more compelling than\n",
    "the hypothesis that a low-probability event has occurred. (What “low’’\n",
    "means is, of course, subjective.) Second, after you have calculated this\n",
    "probability—and even if you can’t—write a Monte Carlo simulation\n",
    "that estimates this probability. Are the two approaches in agreement?"
   ]
  },
  {
   "cell_type": "code",
   "execution_count": 4,
   "id": "544e16ae-c909-4a92-8b25-3f64cde7158c",
   "metadata": {},
   "outputs": [
    {
     "data": {
      "application/vnd.jupyter.widget-view+json": {
       "model_id": "b6eb82c91d54430dbcd2cd9f29f1706b",
       "version_major": 2,
       "version_minor": 0
      },
      "text/plain": [
       "  0%|          | 0/1000000 [00:00<?, ?it/s]"
      ]
     },
     "metadata": {},
     "output_type": "display_data"
    },
    {
     "name": "stdout",
     "output_type": "stream",
     "text": [
      "0.006701\n"
     ]
    }
   ],
   "source": [
    "import numpy as np\n",
    "\n",
    "sims = 10**6\n",
    "# a label/index for 'clumsy'\n",
    "clumsy = 1 \n",
    "# the number of times clumsy breaks at least 4 dishes\n",
    "clumsy45 = 0 \n",
    "\n",
    "for i in trange(sims) :\n",
    "    dishes_broken = 0 # dishes broken by clumsy\n",
    "    for dish in range(5) :\n",
    "        # pick a random breaker from 1 to 5\n",
    "        dish_breaker = np.random.randint(low = 1, high = 6)\n",
    "        # is Clumsy the breaker?\n",
    "        if dish_breaker == clumsy : \n",
    "            dishes_broken += 1\n",
    "    # has Clumsy broken at least 4 dishes?\n",
    "    if dishes_broken >= 4 :\n",
    "        clumsy45 += 1\n",
    "\n",
    "print(clumsy45/sims)"
   ]
  },
  {
   "cell_type": "markdown",
   "id": "14d5c5b1-b714-44cf-badc-72501e44538c",
   "metadata": {},
   "source": [
    "Analytical solution: $$ \\binom{5}{4} \\left(1\\over 5\\right)^4 \\left(4\\over 5\\right) + \\binom{5}{5} \\left(1\\over 5\\right)^5 = {21 \\over 5^5} = 0.00672$$"
   ]
  }
 ],
 "metadata": {
  "kernelspec": {
   "display_name": "Python 3 (ipykernel)",
   "language": "python",
   "name": "python3"
  },
  "language_info": {
   "codemirror_mode": {
    "name": "ipython",
    "version": 3
   },
   "file_extension": ".py",
   "mimetype": "text/x-python",
   "name": "python",
   "nbconvert_exporter": "python",
   "pygments_lexer": "ipython3",
   "version": "3.7.4"
  }
 },
 "nbformat": 4,
 "nbformat_minor": 5
}
