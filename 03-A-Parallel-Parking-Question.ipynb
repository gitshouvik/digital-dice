{
 "cells": [
  {
   "cell_type": "code",
   "execution_count": 1,
   "id": "9a76f0e4-01e8-4738-9a5b-246b7d560a81",
   "metadata": {},
   "outputs": [],
   "source": [
    "# we will use the tqdm progress bar\n",
    "from tqdm.auto import tqdm,trange"
   ]
  },
  {
   "cell_type": "markdown",
   "id": "b7377db7-992c-43b4-be6b-a25ea2b6158c",
   "metadata": {},
   "source": [
    "## 3. A parallel parking question \n",
    "\n",
    "Suppose n ≥ 2 cars parallel park in a long, straight, narrow lot of\n",
    "length L. To make things easy, we’ll imagine that the cars have no\n",
    "extensions but instead can be modeled as simply points distributed\n",
    "along a line segment of length L. We’ll measure the parking location or\n",
    "position of a car by its distance from the lot entrance at the origin, and\n",
    "so each car is located in the interval (0,L). Now, each car will obviously\n",
    "have a nearest neighbor. For example, if n = 3 and if the positions of\n",
    "car1, car2, and car3 are 0.05, 0.17, and 0.56, respectively, then the\n",
    "nearest neighbor of car2 is car1 (and, of course, the nearest neighbor—\n",
    "the only neighbor!—for car1 is car2; car1 and car2 are mutual nearest\n",
    "neighbors in this example). What is the probability that, if a car is\n",
    "picked at random, it is the nearest neighbor of the car that is its nearest\n",
    "neighbor? That is, if a car is picked at random, what is the probability\n",
    "it is one of a pair of mutual nearest neighbors?"
   ]
  },
  {
   "cell_type": "code",
   "execution_count": 2,
   "id": "a77316ab-1e62-43f0-9699-565b2b8b9dc9",
   "metadata": {},
   "outputs": [],
   "source": [
    "import numpy as np\n",
    "\n",
    "# function to find a specific car's nearest neighbour\n",
    "def nearestN(locations, car) :\n",
    "    if car == 0 : # left edge\n",
    "        return car + 1  # only neighbour\n",
    "    elif car == len(locations) - 1 : # right edge\n",
    "        return car - 1   # only neighbour\n",
    "    else :\n",
    "        leftDist = locations[car] - locations[car-1]\n",
    "        rightDist = locations[car+1] - locations[car]\n",
    "        if leftDist < rightDist :\n",
    "            return car - 1\n",
    "        else :\n",
    "            return car + 1\n",
    "\n",
    "# function to find the probability that a car picked\n",
    "# at random has its nearest neighbour relationship\n",
    "# to be mutual\n",
    "def mutualProb(cars) :\n",
    "    mutual = 0\n",
    "    sims = 10**5\n",
    "    for i in trange(sims) :\n",
    "        # generate random locations of the cars\n",
    "        locations = sorted(np.random.uniform(low=0.0, high=1.0, size=cars))\n",
    "        # pick one of the cars at random\n",
    "        pickedCar = np.random.randint(low=1, high=cars+1) - 1\n",
    "        # find the nearest neighbour of the picked car\n",
    "        nearestCar = nearestN(locations, pickedCar) \n",
    "        # find the nearest neighbour of the nearest neighbour\n",
    "        nearestOfNearestCar =  nearestN(locations, nearestCar) \n",
    "        # check if the nearest neigb. relation is mutual\n",
    "        if nearestOfNearestCar == pickedCar :\n",
    "            mutual += 1\n",
    "    return mutual/sims"
   ]
  },
  {
   "cell_type": "code",
   "execution_count": 3,
   "id": "6e0b333a-6671-450d-896e-4fcf7ffe7f5a",
   "metadata": {},
   "outputs": [
    {
     "data": {
      "application/vnd.jupyter.widget-view+json": {
       "model_id": "c90d365d61204ee390cd3079aed620b0",
       "version_major": 2,
       "version_minor": 0
      },
      "text/plain": [
       "  0%|          | 0/100000 [00:00<?, ?it/s]"
      ]
     },
     "metadata": {},
     "output_type": "display_data"
    },
    {
     "data": {
      "application/vnd.jupyter.widget-view+json": {
       "model_id": "b10dfe3cfaaa4a9198e562955704387d",
       "version_major": 2,
       "version_minor": 0
      },
      "text/plain": [
       "  0%|          | 0/100000 [00:00<?, ?it/s]"
      ]
     },
     "metadata": {},
     "output_type": "display_data"
    },
    {
     "data": {
      "application/vnd.jupyter.widget-view+json": {
       "model_id": "9e639fcb92774c7e83929dc86d2401d4",
       "version_major": 2,
       "version_minor": 0
      },
      "text/plain": [
       "  0%|          | 0/100000 [00:00<?, ?it/s]"
      ]
     },
     "metadata": {},
     "output_type": "display_data"
    },
    {
     "data": {
      "application/vnd.jupyter.widget-view+json": {
       "model_id": "d011815545be4a588686b49eff485383",
       "version_major": 2,
       "version_minor": 0
      },
      "text/plain": [
       "  0%|          | 0/100000 [00:00<?, ?it/s]"
      ]
     },
     "metadata": {},
     "output_type": "display_data"
    },
    {
     "data": {
      "text/plain": [
       "[0.66531, 0.66536, 0.66714, 0.66676]"
      ]
     },
     "execution_count": 3,
     "metadata": {},
     "output_type": "execute_result"
    }
   ],
   "source": [
    "list( map(mutualProb, [3,4,5,20]) )"
   ]
  },
  {
   "cell_type": "markdown",
   "id": "64f137bd-3bcb-4597-bba0-cc9165dcf79d",
   "metadata": {},
   "source": [
    "The analytical result is 2/3."
   ]
  }
 ],
 "metadata": {
  "kernelspec": {
   "display_name": "Python 3 (ipykernel)",
   "language": "python",
   "name": "python3"
  },
  "language_info": {
   "codemirror_mode": {
    "name": "ipython",
    "version": 3
   },
   "file_extension": ".py",
   "mimetype": "text/x-python",
   "name": "python",
   "nbconvert_exporter": "python",
   "pygments_lexer": "ipython3",
   "version": "3.7.4"
  }
 },
 "nbformat": 4,
 "nbformat_minor": 5
}
