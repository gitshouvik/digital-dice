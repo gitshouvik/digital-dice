{
 "cells": [
  {
   "cell_type": "code",
   "execution_count": 1,
   "id": "9a76f0e4-01e8-4738-9a5b-246b7d560a81",
   "metadata": {},
   "outputs": [],
   "source": [
    "# we will use the tqdm progress bar\n",
    "from tqdm.auto import tqdm,trange"
   ]
  },
  {
   "cell_type": "markdown",
   "id": "e2ebb575-8e68-41f7-a1f0-c375879ebf91",
   "metadata": {
    "tags": []
   },
   "source": [
    "## 16. The Appeals Court Paradox\n",
    "\n",
    "Imagine a criminal appeals court consisting of ﬁve judges; let’s call them A, B, C, D, and E. The judges meet regularly to vote (independently, of course) on the fate of prisoners who have petitioned for a review of their convictions. The result of each of the court’s deliberations is determined by a simple majority; for a petitioner to be granted or denied a new trial requires three or more votes. Based on long-term record keeping, it is known that A votes correctly 95% of the time; i.e., when A votes to either uphold or to reverse the original conviction, he is wrong 5% of the time. Similarly, B, C, D, and E vote correctly 95%, 90%, 90%, and 80% of the time. \n",
    "\n",
    "Write a Monte Carlo simulation of the court’s deliberations, and use it to estimate the probability that the court, as an entity, makes an incorrect decision. (As a partial check on your code, make sure it gives the obvious answers for the cases of all ﬁve judges always being correct or always being wrong.) Then, change the code slightly to represent the fact that E no longer votes independently but rather now always votes as does A. Since A has a better (by far) voting record than does E, it would seem logical to conclude that the probability the court is in error would decrease. Is that what your simulation actually predicts?"
   ]
  },
  {
   "cell_type": "code",
   "execution_count": 2,
   "id": "b78f2fb4-a6b7-4c65-bbe2-4cdbc9683e87",
   "metadata": {},
   "outputs": [
    {
     "data": {
      "application/vnd.jupyter.widget-view+json": {
       "model_id": "d4bcedb905dc488faeae33665931068b",
       "version_major": 2,
       "version_minor": 0
      },
      "text/plain": [
       "  0%|          | 0/1000000 [00:00<?, ?it/s]"
      ]
     },
     "metadata": {},
     "output_type": "display_data"
    },
    {
     "data": {
      "text/plain": [
       "0.007177"
      ]
     },
     "execution_count": 2,
     "metadata": {},
     "output_type": "execute_result"
    }
   ],
   "source": [
    "import numpy as np\n",
    "\n",
    "sims = 10**6\n",
    "incorrect = 0\n",
    "\n",
    "for i in trange(sims) :\n",
    "    # A, B, C, D and E vote correctly 95%, 95%, \n",
    "    # 90%, 90%, and 80% of the time\n",
    "    a = np.random.choice([0,1], p=[0.05,0.95])\n",
    "    b = np.random.choice([0,1], p=[0.05,0.95])\n",
    "    c = np.random.choice([0,1], p=[0.10,0.90])\n",
    "    d = np.random.choice([0,1], p=[0.10,0.90])\n",
    "    e = np.random.choice([0,1], p=[0.20,0.80])\n",
    "    # 1 -> correct, 0 -> wrong\n",
    "    result = a+b+c+d+e # court's decision\n",
    "    # correct decision is the minority?\n",
    "    if result <= 2 :   \n",
    "        incorrect += 1\n",
    "\n",
    "incorrect/sims"
   ]
  },
  {
   "cell_type": "markdown",
   "id": "fb0aed66-b1ea-47b3-9a7a-f639ac107439",
   "metadata": {},
   "source": [
    "The book quotes the value 0.0070419 which is quite close to the above."
   ]
  },
  {
   "cell_type": "markdown",
   "id": "8be3934d-ffbd-48ea-a18f-b929381a22af",
   "metadata": {},
   "source": [
    "As a check, we calculate the probability that all judges vote incorrectly. The expected result is"
   ]
  },
  {
   "cell_type": "code",
   "execution_count": 48,
   "id": "bd7feaa2-6ae5-4487-bcd4-88ea3fcbe176",
   "metadata": {},
   "outputs": [
    {
     "data": {
      "text/plain": [
       "5.000000000000002e-06"
      ]
     },
     "execution_count": 48,
     "metadata": {},
     "output_type": "execute_result"
    }
   ],
   "source": [
    ".05 * .05 * .1 * .1 * .2"
   ]
  },
  {
   "cell_type": "markdown",
   "id": "8f5423e4-f66b-4c01-99b2-7aad6bf832d9",
   "metadata": {},
   "source": [
    "Here's a slight modification of the code to reproduce this."
   ]
  },
  {
   "cell_type": "code",
   "execution_count": 3,
   "id": "22f9986e-01a4-4935-809f-59f4f59750bd",
   "metadata": {},
   "outputs": [
    {
     "data": {
      "application/vnd.jupyter.widget-view+json": {
       "model_id": "be6123f45b1a43169f8b6b0360265dc9",
       "version_major": 2,
       "version_minor": 0
      },
      "text/plain": [
       "  0%|          | 0/1000000 [00:00<?, ?it/s]"
      ]
     },
     "metadata": {},
     "output_type": "display_data"
    },
    {
     "data": {
      "text/plain": [
       "5e-06"
      ]
     },
     "execution_count": 3,
     "metadata": {},
     "output_type": "execute_result"
    }
   ],
   "source": [
    "incorrect = 0\n",
    "\n",
    "for i in trange(sims) :\n",
    "    # A, B, C, D and E vote correctly 95%, 95%, \n",
    "    # 90%, 90%, and 80% of the time\n",
    "    a = np.random.choice([0,1], p=[0.05,0.95])\n",
    "    b = np.random.choice([0,1], p=[0.05,0.95])\n",
    "    c = np.random.choice([0,1], p=[0.10,0.90])\n",
    "    d = np.random.choice([0,1], p=[0.10,0.90])\n",
    "    e = np.random.choice([0,1], p=[0.20,0.80])\n",
    "    # 1 -> correct, 0 -> wrong\n",
    "    result = a+b+c+d+e # court's decision\n",
    "    # correct decision is the minority?\n",
    "    if result == 0 :   \n",
    "        incorrect += 1\n",
    "\n",
    "incorrect/sims"
   ]
  },
  {
   "cell_type": "markdown",
   "id": "c6e30161-8e5c-4226-a0d9-f969d7ab04d0",
   "metadata": {},
   "source": [
    "Now, if E votes the same as A :"
   ]
  },
  {
   "cell_type": "code",
   "execution_count": 4,
   "id": "8da2479f-8f72-4570-83ed-56b5273cce3e",
   "metadata": {},
   "outputs": [
    {
     "data": {
      "application/vnd.jupyter.widget-view+json": {
       "model_id": "cc269d02b65247a4a0a37463642556fb",
       "version_major": 2,
       "version_minor": 0
      },
      "text/plain": [
       "  0%|          | 0/1000000 [00:00<?, ?it/s]"
      ]
     },
     "metadata": {},
     "output_type": "display_data"
    },
    {
     "data": {
      "text/plain": [
       "0.012108"
      ]
     },
     "execution_count": 4,
     "metadata": {},
     "output_type": "execute_result"
    }
   ],
   "source": [
    "incorrect = 0\n",
    "\n",
    "for i in trange(sims) :\n",
    "    a = np.random.choice([0,1], p=[0.05,0.95])\n",
    "    b = np.random.choice([0,1], p=[0.05,0.95])\n",
    "    c = np.random.choice([0,1], p=[0.10,0.90])\n",
    "    d = np.random.choice([0,1], p=[0.10,0.90])\n",
    "    e = a  # E votes the same as A\n",
    "    result = a+b+c+d+e\n",
    "    if result <= 2 :\n",
    "        incorrect += 1\n",
    "\n",
    "incorrect/sims"
   ]
  },
  {
   "cell_type": "markdown",
   "id": "a6853cf9-31ab-47fd-bda9-d501ea4a5607",
   "metadata": {},
   "source": [
    "The probability of the court making the right decision increases if E votes the same as A!"
   ]
  }
 ],
 "metadata": {
  "kernelspec": {
   "display_name": "Python 3 (ipykernel)",
   "language": "python",
   "name": "python3"
  },
  "language_info": {
   "codemirror_mode": {
    "name": "ipython",
    "version": 3
   },
   "file_extension": ".py",
   "mimetype": "text/x-python",
   "name": "python",
   "nbconvert_exporter": "python",
   "pygments_lexer": "ipython3",
   "version": "3.7.4"
  }
 },
 "nbformat": 4,
 "nbformat_minor": 5
}
