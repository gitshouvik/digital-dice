{
 "cells": [
  {
   "cell_type": "code",
   "execution_count": 2,
   "id": "9a76f0e4-01e8-4738-9a5b-246b7d560a81",
   "metadata": {},
   "outputs": [],
   "source": [
    "# we will use the tqdm progress bar\n",
    "from tqdm.auto import tqdm,trange"
   ]
  },
  {
   "cell_type": "markdown",
   "id": "ae7eec92-65e0-48e4-b8cf-7aee1fbb5378",
   "metadata": {
    "tags": []
   },
   "source": [
    "## 7. The pipe smoker's discovery\n",
    "\n",
    "A pipe smoker has two booklets of matches in his pocket, each containing 40 matches initially. Whenever a match is required he picks one of the booklets at random, removing one match. Write a program using random numbers to simulate the situation 100 times and determine the average number of matches that can be removed until one booklet is completely empty."
   ]
  },
  {
   "cell_type": "code",
   "execution_count": 3,
   "id": "cde463de-ba2e-4d6e-99db-699749fe9729",
   "metadata": {},
   "outputs": [
    {
     "data": {
      "application/vnd.jupyter.widget-view+json": {
       "model_id": "b57de0881f1a4fd88a9ee1d1a8f48eb4",
       "version_major": 2,
       "version_minor": 0
      },
      "text/plain": [
       "  0%|          | 0/100000 [00:00<?, ?it/s]"
      ]
     },
     "metadata": {},
     "output_type": "display_data"
    },
    {
     "data": {
      "text/plain": [
       "72.89062"
      ]
     },
     "execution_count": 3,
     "metadata": {},
     "output_type": "execute_result"
    }
   ],
   "source": [
    "import numpy as np\n",
    "\n",
    "sims = 10**5\n",
    "draws = 0\n",
    "\n",
    "\n",
    "for i in trange(sims) :\n",
    "    # each box/booklet contains 40 matches initially\n",
    "    box1 = 40 \n",
    "    box2 = 40\n",
    "    # while one of the boxes is emptied\n",
    "    while box1 != 0 and box2 != 0 :\n",
    "        draws += 1\n",
    "        # choose a box at random\n",
    "        choice = np.random.randint(low=1, high=2+1)\n",
    "        # use/remove a match from the chosen box\n",
    "        if choice == 1 :\n",
    "            box1 -= 1\n",
    "        elif choice == 2 :\n",
    "            box2 -= 1\n",
    "\n",
    "draws/sims"
   ]
  },
  {
   "cell_type": "markdown",
   "id": "a4d54740-76a5-451e-91f7-a172e77e0850",
   "metadata": {},
   "source": [
    "Nahin obtains the value of 72.869 from his simulation."
   ]
  },
  {
   "cell_type": "markdown",
   "id": "ea9f0016-62fd-41a6-a873-83d6e3ef1521",
   "metadata": {},
   "source": [
    "### Variant of the above problem\n",
    "\n",
    "A mathematician who loved cigarettes (Banach smoked up to ﬁve packs a day and his early death at age 53 was, not surprisingly, of lung cancer) has two matchboxes, one in his left pocket and one in his right pocket, with each box initially containing 40 matches. The smoker selects a box at random each time he lights a new cigarette, and the problem is to calculate the average number of removed matches (or cigarettes smoked) until the smoker ﬁrst discovers that the box he has just selected is empty."
   ]
  },
  {
   "cell_type": "code",
   "execution_count": 5,
   "id": "e90370cf-aeaa-41e1-8b04-4c7ca6bca138",
   "metadata": {},
   "outputs": [
    {
     "data": {
      "application/vnd.jupyter.widget-view+json": {
       "model_id": "8bd25f71d5ff43d489331932de2e945c",
       "version_major": 2,
       "version_minor": 0
      },
      "text/plain": [
       "  0%|          | 0/100000 [00:00<?, ?it/s]"
      ]
     },
     "metadata": {},
     "output_type": "display_data"
    },
    {
     "data": {
      "text/plain": [
       "73.81231"
      ]
     },
     "execution_count": 5,
     "metadata": {},
     "output_type": "execute_result"
    }
   ],
   "source": [
    "import numpy as np\n",
    "\n",
    "\n",
    "sims = 10**5\n",
    "removals = 0\n",
    "    \n",
    "box = [0, 40, 40] # building an array and ignoring the 0th element\n",
    "                  # as it easier to call box[1] and box[2]\n",
    "for i in trange(sims) :\n",
    "    # each box/booklet contains 40 matches initially\n",
    "    box[1] = 40 \n",
    "    box[2] = 40\n",
    "    # while one of the boxes is emptied\n",
    "    while box[1] != 0 and box[2] != 0 :\n",
    "        removals += 1\n",
    "        choice = np.random.randint(low=1, high=2+1)\n",
    "        box[choice] -= 1\n",
    "    # keeping choosing boxes until the empty one is discovered\n",
    "    while True :\n",
    "        choice = np.random.randint(low=1, high=2+1)\n",
    "        # if it's the empty box\n",
    "        if box[choice] == 0 :\n",
    "            break\n",
    "        # if it's the non-empty box\n",
    "        else :\n",
    "            removals += 1\n",
    "            box[choice] -= 1\n",
    "    \n",
    "            \n",
    "removals/sims"
   ]
  },
  {
   "cell_type": "markdown",
   "id": "b7927595-2cdc-4a88-a5f5-68d6a066ecf6",
   "metadata": {},
   "source": [
    "The book quotes the result 73.79 which is pretty close to the above."
   ]
  },
  {
   "cell_type": "code",
   "execution_count": null,
   "id": "3ee58973-788f-471d-ab85-8dc1eaed4dae",
   "metadata": {},
   "outputs": [],
   "source": []
  }
 ],
 "metadata": {
  "kernelspec": {
   "display_name": "Python 3 (ipykernel)",
   "language": "python",
   "name": "python3"
  },
  "language_info": {
   "codemirror_mode": {
    "name": "ipython",
    "version": 3
   },
   "file_extension": ".py",
   "mimetype": "text/x-python",
   "name": "python",
   "nbconvert_exporter": "python",
   "pygments_lexer": "ipython3",
   "version": "3.7.4"
  }
 },
 "nbformat": 4,
 "nbformat_minor": 5
}
