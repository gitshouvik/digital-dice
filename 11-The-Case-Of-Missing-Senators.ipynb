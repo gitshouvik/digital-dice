{
 "cells": [
  {
   "cell_type": "code",
   "execution_count": 1,
   "id": "9a76f0e4-01e8-4738-9a5b-246b7d560a81",
   "metadata": {},
   "outputs": [],
   "source": [
    "# we will use the tqdm progress bar\n",
    "from tqdm.auto import tqdm,trange"
   ]
  },
  {
   "cell_type": "markdown",
   "id": "16d28d41-8c10-4296-b7f5-b90a63601e53",
   "metadata": {},
   "source": [
    "## 11. The case of missing senators\n",
    "\n",
    "Imagine that the U.S. Senate is about to vote on an important bill. It is known that there are more for votes than there are against votes, and so if all 100 senators show up, then the bill will pass. Let’s suppose there are A senators who are against the bill, and thus there are 100 − A senators who are for it, where A < 50. If A = 49, for example, it will be a close 51 to 49 vote to pass the bill—if all the senators vote (and they don’t always do!). Suppose, in fact, that M of the senators miss the vote. We are to imagine that these M senators are absent for purely random reasons (trafﬁc delays, illness, forgetfulness, etc.) having nothing to do with whether a senator is either for or against the bill. It is then possible for the vote to go the wrong way, i.e., for the senators who do show up to collectively defeat the bill. What is the probability of that happening?"
   ]
  },
  {
   "cell_type": "code",
   "execution_count": 2,
   "id": "81c53509-443a-4eca-b6db-c0952ebb6645",
   "metadata": {},
   "outputs": [],
   "source": [
    "import numpy as np\n",
    "\n",
    "def probVoteGoingTheWrongWay(A, M) :\n",
    "    # A = senators against the bill\n",
    "    # M = missing senators\n",
    "    # F = senators for the bill\n",
    "    F = 100 - A \n",
    "    sims = 10**5\n",
    "    wrongWay = 0\n",
    "    for i in trange(sims) :  \n",
    "        # record of votes if all were present\n",
    "        # +1 -> for, -1 -> against\n",
    "        voteLog = [1 for i in range(F)] + [-1 for i in range(A)]\n",
    "        # randomly choose 100-M senators, without replacement\n",
    "        voteLogReduced = np.random.choice(voteLog, 100 - M, replace=False)\n",
    "        # count the margin in favour of the bill\n",
    "        margin = sum(voteLogReduced)\n",
    "        # is it a defeat?\n",
    "        if margin < 0 :\n",
    "            wrongWay += 1\n",
    "    return wrongWay/sims\n",
    "            "
   ]
  },
  {
   "cell_type": "code",
   "execution_count": 3,
   "id": "9064ef32-6953-4afc-bf10-e3d76ab4571c",
   "metadata": {},
   "outputs": [
    {
     "data": {
      "application/vnd.jupyter.widget-view+json": {
       "model_id": "7c79424e9ace4b57b9ec7091f76ee9de",
       "version_major": 2,
       "version_minor": 0
      },
      "text/plain": [
       "  0%|          | 0/100000 [00:00<?, ?it/s]"
      ]
     },
     "metadata": {},
     "output_type": "display_data"
    },
    {
     "data": {
      "application/vnd.jupyter.widget-view+json": {
       "model_id": "174e2339b5d34ecc8254784e860617f6",
       "version_major": 2,
       "version_minor": 0
      },
      "text/plain": [
       "  0%|          | 0/100000 [00:00<?, ?it/s]"
      ]
     },
     "metadata": {},
     "output_type": "display_data"
    },
    {
     "data": {
      "application/vnd.jupyter.widget-view+json": {
       "model_id": "918159d3fcf24e40833b8e29a87341a6",
       "version_major": 2,
       "version_minor": 0
      },
      "text/plain": [
       "  0%|          | 0/100000 [00:00<?, ?it/s]"
      ]
     },
     "metadata": {},
     "output_type": "display_data"
    },
    {
     "data": {
      "text/plain": [
       "[0.12729, 0.06243, 0.1966]"
      ]
     },
     "execution_count": 3,
     "metadata": {},
     "output_type": "execute_result"
    }
   ],
   "source": [
    "list(map(probVoteGoingTheWrongWay, [49,49,49], [3,4,5]))"
   ]
  },
  {
   "cell_type": "markdown",
   "id": "de46ce42-0e6f-4836-a975-0563e3c5526d",
   "metadata": {},
   "source": [
    "These are close to the values mentioned on page 156."
   ]
  }
 ],
 "metadata": {
  "kernelspec": {
   "display_name": "Python 3 (ipykernel)",
   "language": "python",
   "name": "python3"
  },
  "language_info": {
   "codemirror_mode": {
    "name": "ipython",
    "version": 3
   },
   "file_extension": ".py",
   "mimetype": "text/x-python",
   "name": "python",
   "nbconvert_exporter": "python",
   "pygments_lexer": "ipython3",
   "version": "3.7.4"
  }
 },
 "nbformat": 4,
 "nbformat_minor": 5
}
