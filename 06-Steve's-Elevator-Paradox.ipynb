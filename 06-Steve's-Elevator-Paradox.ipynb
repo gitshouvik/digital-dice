{
 "cells": [
  {
   "cell_type": "markdown",
   "id": "2188b485-d739-4b14-98d0-5450435b2428",
   "metadata": {},
   "source": [
    "## 6. Steve's elevator problem\n",
    "\n",
    "Every day I ride up to the 15th ﬂoor in an elevator. This elevator only goes to ﬂoors G, 2, 8, 9, 10, 11, 12, 13, 14, 15, 16, and 17. On average, I noticed that I usually make 2 or 3 stops when going from the ground ﬂoor, G, to 15, but it really depends on the number of riders in the elevator car. Is it possible to ﬁnd the expected value for the number of stops the elevator makes during my ride up to the 15th ﬂoor, given the number of riders?"
   ]
  },
  {
   "cell_type": "code",
   "execution_count": 7,
   "id": "05438db4-b76c-40f9-8259-4caa5e11840e",
   "metadata": {},
   "outputs": [],
   "source": [
    "import numpy as np\n",
    "\n",
    "# in the book's convention: riders = k+1\n",
    "def nStops(riders) :\n",
    "    n = 11 # number of floors\n",
    "    sims = 10**4\n",
    "    totalStops = 0\n",
    "    \n",
    "    for i in range(sims) : \n",
    "        # the riders other than Steve get off at random floors\n",
    "        departingFloors = np.random.randint(1, 11+1, riders - 1)\n",
    "        # Steve gets off at the ninth floor in the sequence\n",
    "        departingFloors = np.append(departingFloors, [9])\n",
    "        # total stops throughout the buiding = number of unique elements\n",
    "        stoppedFloors = list(set(departingFloors))\n",
    "        # print(stoppedFloors)\n",
    "        for f in stoppedFloors :\n",
    "            if f <= 9 : # stopping at Steve's floor and below\n",
    "                totalStops += 1\n",
    "                \n",
    "        \n",
    "    return totalStops/sims"
   ]
  },
  {
   "cell_type": "code",
   "execution_count": 8,
   "id": "70a0d8b6-91a6-4071-9b9f-f418de7b8099",
   "metadata": {},
   "outputs": [
    {
     "data": {
      "text/plain": [
       "[1.0, 1.7322, 2.3875, 2.9837, 3.5366, 4.0281, 4.4875, 4.8977, 5.263, 5.6019]"
      ]
     },
     "execution_count": 8,
     "metadata": {},
     "output_type": "execute_result"
    }
   ],
   "source": [
    "list(map(nStops, list(range(1,11))))"
   ]
  },
  {
   "cell_type": "markdown",
   "id": "a701c687-abd2-4536-9774-c56aa686e36c",
   "metadata": {},
   "source": [
    "The values agree with the table on page 127 of the book."
   ]
  }
 ],
 "metadata": {
  "kernelspec": {
   "display_name": "Python 3 (ipykernel)",
   "language": "python",
   "name": "python3"
  },
  "language_info": {
   "codemirror_mode": {
    "name": "ipython",
    "version": 3
   },
   "file_extension": ".py",
   "mimetype": "text/x-python",
   "name": "python",
   "nbconvert_exporter": "python",
   "pygments_lexer": "ipython3",
   "version": "3.7.4"
  }
 },
 "nbformat": 4,
 "nbformat_minor": 5
}
