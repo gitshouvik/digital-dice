{
 "cells": [
  {
   "cell_type": "code",
   "execution_count": 3,
   "id": "9a76f0e4-01e8-4738-9a5b-246b7d560a81",
   "metadata": {},
   "outputs": [],
   "source": [
    "# we will use the tqdm progress bar\n",
    "from tqdm.auto import tqdm,trange"
   ]
  },
  {
   "cell_type": "markdown",
   "id": "3ad77855-04d8-445a-b3e8-3ae3d8a853cf",
   "metadata": {},
   "source": [
    "## 21. Chain Reactions, Branching Processes, and Baby Boys\n",
    "\n",
    "Assume that each male produces $i$ male offspring with probability $p_i$ (and that this probability does not vary from one generation to another). What then is the probability that a given Jones has k males in the nth generation of his descendents?\n",
    "\n",
    "When you write your code, use the result of a study done in the 1930s by the American mathematician Alfred Lotka (1880–1949), who showed that, at least in America, the $p_i$ probabilities are closely approximated by $p_0$ = 0.4825 and $p_i = (0.2126)(0.5893)^{i−1}$  for $i\\geq 1$."
   ]
  },
  {
   "cell_type": "code",
   "execution_count": 4,
   "id": "30e978a8-de13-4fcc-a637-6d3582ea0323",
   "metadata": {},
   "outputs": [],
   "source": [
    "import numpy as np\n",
    "\n",
    "def probMales(n, k) :\n",
    "    # n <- n'th generation of descendants\n",
    "    # k <- number of males in the n'th generation\n",
    "    \n",
    "    # Volterra's estimates for p_i\n",
    "    p = np.zeros(50)\n",
    "    p = np.asarray(p).astype('float64')\n",
    "    p[0] = 0.4825\n",
    "    for i in range(1,50) :\n",
    "        p[i] = (0.2126)*((0.5893)**(i-1))\n",
    "    # theoretically the probabilities will sum up to 1 only if we onsider the range (0,inf)\n",
    "    # for pratical purposes we can re-normalize the probabilities in the range (0,20) as follows\n",
    "    p = p/sum(p)\n",
    "    # note that this is not the approach Nahin takes in his code solution. \n",
    "    # He works with cumulative probabilities. \n",
    "    \n",
    "    # Personally, I feel it's more robust and simpler to renormalize.\n",
    "    \n",
    "    \n",
    "    sims = 10**6\n",
    "    success = 0\n",
    "    \n",
    "    for i in trange(sims) :\n",
    "        generation = 0 # 0th generation\n",
    "        males = 1 # Jones himself\n",
    "        while (generation <= n-1) : \n",
    "            # randomly select number of male off-springs from each male\n",
    "            # using Volterra's distribution \n",
    "            nextGen = np.random.choice(list(range(50)), size=males, p=p) \n",
    "            # total number of males in the next generation\n",
    "            males = np.sum(nextGen)\n",
    "            generation += 1\n",
    "        # is the number of males in the n'th generation equal to k?\n",
    "        if males == k :\n",
    "            success += 1\n",
    "    \n",
    "    return success/sims"
   ]
  },
  {
   "cell_type": "code",
   "execution_count": 5,
   "id": "76bc7fcc-5be3-493b-825d-d5218af03f2f",
   "metadata": {},
   "outputs": [
    {
     "data": {
      "application/vnd.jupyter.widget-view+json": {
       "model_id": "cd29ab96865c4ea692a8276ec98b9bdf",
       "version_major": 2,
       "version_minor": 0
      },
      "text/plain": [
       "  0%|          | 0/1000000 [00:00<?, ?it/s]"
      ]
     },
     "metadata": {},
     "output_type": "display_data"
    },
    {
     "data": {
      "application/vnd.jupyter.widget-view+json": {
       "model_id": "d1e97a2afe174443bfd1fcd871a310d4",
       "version_major": 2,
       "version_minor": 0
      },
      "text/plain": [
       "  0%|          | 0/1000000 [00:00<?, ?it/s]"
      ]
     },
     "metadata": {},
     "output_type": "display_data"
    },
    {
     "data": {
      "application/vnd.jupyter.widget-view+json": {
       "model_id": "e36f2c67969b47acb795dc423c5de281",
       "version_major": 2,
       "version_minor": 0
      },
      "text/plain": [
       "  0%|          | 0/1000000 [00:00<?, ?it/s]"
      ]
     },
     "metadata": {},
     "output_type": "display_data"
    },
    {
     "data": {
      "text/plain": [
       "[0.067346, 0.067454, 0.067594]"
      ]
     },
     "execution_count": 5,
     "metadata": {},
     "output_type": "execute_result"
    }
   ],
   "source": [
    "# 2 males in 2nd generation; analytical result: 0.0674\n",
    "[probMales(2,2) for i in range(3)]"
   ]
  },
  {
   "cell_type": "code",
   "execution_count": 6,
   "id": "f76b3e74-785c-4e54-a931-3008cd943bda",
   "metadata": {},
   "outputs": [
    {
     "data": {
      "application/vnd.jupyter.widget-view+json": {
       "model_id": "11af3ec17893447b9702d3f5c9fd0d74",
       "version_major": 2,
       "version_minor": 0
      },
      "text/plain": [
       "  0%|          | 0/1000000 [00:00<?, ?it/s]"
      ]
     },
     "metadata": {},
     "output_type": "display_data"
    },
    {
     "data": {
      "application/vnd.jupyter.widget-view+json": {
       "model_id": "0e1bdc27383e4bfcae2faad2157b0c35",
       "version_major": 2,
       "version_minor": 0
      },
      "text/plain": [
       "  0%|          | 0/1000000 [00:00<?, ?it/s]"
      ]
     },
     "metadata": {},
     "output_type": "display_data"
    },
    {
     "data": {
      "application/vnd.jupyter.widget-view+json": {
       "model_id": "bfcb652db999451099a91172e7a915e7",
       "version_major": 2,
       "version_minor": 0
      },
      "text/plain": [
       "  0%|          | 0/1000000 [00:00<?, ?it/s]"
      ]
     },
     "metadata": {},
     "output_type": "display_data"
    },
    {
     "data": {
      "text/plain": [
       "[0.039608, 0.039355, 0.039199]"
      ]
     },
     "execution_count": 6,
     "metadata": {},
     "output_type": "execute_result"
    }
   ],
   "source": [
    "# 2 males in 2nd generation; analytical result: 0.0394\n",
    "[probMales(2,4) for i in range(3)]"
   ]
  },
  {
   "cell_type": "code",
   "execution_count": 7,
   "id": "3ff838d0-c851-41d6-9a6c-73246ef308ab",
   "metadata": {},
   "outputs": [
    {
     "data": {
      "application/vnd.jupyter.widget-view+json": {
       "model_id": "f4331a36e09545c1a806296406dbb365",
       "version_major": 2,
       "version_minor": 0
      },
      "text/plain": [
       "  0%|          | 0/1000000 [00:00<?, ?it/s]"
      ]
     },
     "metadata": {},
     "output_type": "display_data"
    },
    {
     "data": {
      "application/vnd.jupyter.widget-view+json": {
       "model_id": "74e157fabbad478892e673432397dc52",
       "version_major": 2,
       "version_minor": 0
      },
      "text/plain": [
       "  0%|          | 0/1000000 [00:00<?, ?it/s]"
      ]
     },
     "metadata": {},
     "output_type": "display_data"
    },
    {
     "data": {
      "application/vnd.jupyter.widget-view+json": {
       "model_id": "ceca69034dfa498eaec2de126a1dc6c7",
       "version_major": 2,
       "version_minor": 0
      },
      "text/plain": [
       "  0%|          | 0/1000000 [00:00<?, ?it/s]"
      ]
     },
     "metadata": {},
     "output_type": "display_data"
    },
    {
     "data": {
      "text/plain": [
       "[0.020632, 0.020423, 0.020673]"
      ]
     },
     "execution_count": 7,
     "metadata": {},
     "output_type": "execute_result"
    }
   ],
   "source": [
    "# 6 males in 3rd generation; analytical result: 0.0205\n",
    "[probMales(3,6) for i in range(3)]"
   ]
  }
 ],
 "metadata": {
  "kernelspec": {
   "display_name": "Python 3 (ipykernel)",
   "language": "python",
   "name": "python3"
  },
  "language_info": {
   "codemirror_mode": {
    "name": "ipython",
    "version": 3
   },
   "file_extension": ".py",
   "mimetype": "text/x-python",
   "name": "python",
   "nbconvert_exporter": "python",
   "pygments_lexer": "ipython3",
   "version": "3.7.4"
  }
 },
 "nbformat": 4,
 "nbformat_minor": 5
}
