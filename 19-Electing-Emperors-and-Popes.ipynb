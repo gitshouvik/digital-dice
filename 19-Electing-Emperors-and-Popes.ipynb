{
 "cells": [
  {
   "cell_type": "code",
   "execution_count": 1,
   "id": "9a76f0e4-01e8-4738-9a5b-246b7d560a81",
   "metadata": {},
   "outputs": [],
   "source": [
    "# we will use the tqdm progress bar\n",
    "from tqdm.auto import tqdm,trange"
   ]
  },
  {
   "cell_type": "markdown",
   "id": "7d837c64-59c4-4836-9b70-c0d8dd7606d3",
   "metadata": {},
   "source": [
    "## 19. Electing emperors and popes"
   ]
  },
  {
   "cell_type": "markdown",
   "id": "a62f7604-d585-4188-89f9-84a6628d9608",
   "metadata": {},
   "source": [
    "Imagine there is a group of N people who wish to elect one of themselves as leader of the group. Each member of the group casts a vote, in a sequence of secret ballots, until one of them receives at least M votes. Two historically interesting examples of this situation are the so-called Imperial Election problem 1 (N = 7 and M = 4, i.e., a simple majority is required to win) and the election of the pope (N is the membership of the College of Cardinals and M is the ﬁrst integer equal to or greater than two-thirds of N). If each member of the group votes for one of the group’s members (perhaps even for themselves) at random, what is the probability a leader will be chosen on any given ballot?\n",
    "\n",
    "Let’s now add a little twist by further assuming that rather than voting at random for any member of the group, all vote at random for one of their colleagues in a subset of N, of size n ≤ N. All N people follow this restriction, including those in the subset. If n = N, we have the original problem. Obviously, n > 0 if we are to even have a vote. And equally obvious is the answer for the n = 1 case: the probability of electing a leader on the ﬁrst ballot is one. It is for n ≥ 2 that the problem is of mathematical interest. This twist is motivated by a story told in Valérie Pirie’s 1936 book The Triple Crown, a history of papal conclaves since 1458. In particular, the one of 1513 is said to have begun with such a divergence in support for a leader that, on the ﬁrst ballot, all the voting cardinals independently decided to vote for one or another of those cardinals in a small subset of cardinals that were generally thought to have little (if any) support. They all did this, apparently, with each thinking they were the only ones doing so and thus would learn which way the wind was blowing. Much to the surprise (if not horror) of all, however, one of these unworthies received 13 votes, nearly enough to be elected pope (in 1513, N = 25 cardinals present and so M = 17). This would have been a disaster, as Pirie declared this almost-pope to be \"the most worthless nonentity present.\"\n",
    "\n",
    "Estimating the probability of selecting the group leader by such random voting as a function of N, M, and n is duck soup for a computer, and your assignment here is to write a Monte Carlo simulation that accepts the values of N, M, and n as inputs. Use your code to estimate the probability for the case of N = 7 (the Imperial Election problem), and for N = 25 (the 1513 Pope problem 3 ) run your code for the cases of n = 2, 3, and 4. Do these simulations for the two cases of (1) each person possibly voting for himself and (2) not being allowed to vote for himself."
   ]
  },
  {
   "cell_type": "code",
   "execution_count": 2,
   "id": "9f25f8e2-f725-4b12-af6c-44ea9fa60e57",
   "metadata": {},
   "outputs": [],
   "source": [
    "import numpy as np\n",
    "\n",
    "# function to find the probability of choosing a leader\n",
    "def probLeaderChosen(N, M, n, selfVote):\n",
    "    # N voters\n",
    "    # n candidates\n",
    "    # M is the threshold for winning\n",
    "    \n",
    "    # selfVote = True (allowed), False (not allowed)\n",
    "    \n",
    "    voters = [i for i in range(N)]\n",
    "    # choosing first M votes = candidates (WLOG)\n",
    "    candidatesOriginal = voters[:n]\n",
    "    #print(candidatesOriginal)\n",
    "    sims = 10**5\n",
    "    chosen = 0\n",
    "    \n",
    "    for i in trange(sims) :\n",
    "        scores = [0 for i in range(n)]\n",
    "        vote = [0 for i in range(N)]\n",
    "        for i in voters :\n",
    "            candidates = candidatesOriginal\n",
    "            # each voter votes randomly amongst the candidates\n",
    "            # print(candidates)\n",
    "            vote[i] = np.random.choice(candidates)\n",
    "            if selfVote == False :\n",
    "                # select a candidate it's not him/herself\n",
    "                while vote[i] == i :\n",
    "                    vote[i] = np.random.choice(candidates)\n",
    "        # tally of votes\n",
    "        for j in candidates :\n",
    "            scores[j] += list(vote).count(j)\n",
    "        # has anyone got more than M votes?\n",
    "        if any(k>=M for k in scores) :\n",
    "            # we have a leader\n",
    "            chosen += 1\n",
    "    \n",
    "    return chosen/sims"
   ]
  },
  {
   "cell_type": "code",
   "execution_count": 3,
   "id": "e151dff8-99c2-4a4a-8402-d49853794a3b",
   "metadata": {},
   "outputs": [
    {
     "data": {
      "application/vnd.jupyter.widget-view+json": {
       "model_id": "7c1114903dcf4785b5f5edf7046ccf74",
       "version_major": 2,
       "version_minor": 0
      },
      "text/plain": [
       "  0%|          | 0/100000 [00:00<?, ?it/s]"
      ]
     },
     "metadata": {},
     "output_type": "display_data"
    },
    {
     "data": {
      "application/vnd.jupyter.widget-view+json": {
       "model_id": "64eb0d21739f426186879a27f12fe19e",
       "version_major": 2,
       "version_minor": 0
      },
      "text/plain": [
       "  0%|          | 0/100000 [00:00<?, ?it/s]"
      ]
     },
     "metadata": {},
     "output_type": "display_data"
    },
    {
     "data": {
      "text/plain": [
       "[1.0, 1.0]"
      ]
     },
     "execution_count": 3,
     "metadata": {},
     "output_type": "execute_result"
    }
   ],
   "source": [
    "[probLeaderChosen(3,2,2,True), probLeaderChosen(3,2,2,False)]"
   ]
  },
  {
   "cell_type": "code",
   "execution_count": 4,
   "id": "994a0267-e17d-4ec1-9c6e-abd16143d1c7",
   "metadata": {},
   "outputs": [
    {
     "data": {
      "application/vnd.jupyter.widget-view+json": {
       "model_id": "10544aca228b489cac8cd549223abae7",
       "version_major": 2,
       "version_minor": 0
      },
      "text/plain": [
       "  0%|          | 0/100000 [00:00<?, ?it/s]"
      ]
     },
     "metadata": {},
     "output_type": "display_data"
    },
    {
     "data": {
      "application/vnd.jupyter.widget-view+json": {
       "model_id": "87d4c3983bce4a05840b264f16423da0",
       "version_major": 2,
       "version_minor": 0
      },
      "text/plain": [
       "  0%|          | 0/100000 [00:00<?, ?it/s]"
      ]
     },
     "metadata": {},
     "output_type": "display_data"
    },
    {
     "data": {
      "text/plain": [
       "[0.77917, 0.75065]"
      ]
     },
     "execution_count": 4,
     "metadata": {},
     "output_type": "execute_result"
    }
   ],
   "source": [
    "[probLeaderChosen(3,2,3,True), probLeaderChosen(3,2,3,False)]"
   ]
  },
  {
   "cell_type": "code",
   "execution_count": 5,
   "id": "520ccca3-895d-4c14-bdaa-3aafd28247b4",
   "metadata": {},
   "outputs": [
    {
     "data": {
      "application/vnd.jupyter.widget-view+json": {
       "model_id": "19d81ba60cad424d886e4c63af891159",
       "version_major": 2,
       "version_minor": 0
      },
      "text/plain": [
       "  0%|          | 0/100000 [00:00<?, ?it/s]"
      ]
     },
     "metadata": {},
     "output_type": "display_data"
    },
    {
     "data": {
      "application/vnd.jupyter.widget-view+json": {
       "model_id": "a71bcf61534f4c7cb4b7aec6c090991c",
       "version_major": 2,
       "version_minor": 0
      },
      "text/plain": [
       "  0%|          | 0/100000 [00:00<?, ?it/s]"
      ]
     },
     "metadata": {},
     "output_type": "display_data"
    },
    {
     "data": {
      "text/plain": [
       "[0.06978, 0.06156]"
      ]
     },
     "execution_count": 5,
     "metadata": {},
     "output_type": "execute_result"
    }
   ],
   "source": [
    "# Imperial election\n",
    "[probLeaderChosen(7,4,7,True), probLeaderChosen(7,4,7,False)]"
   ]
  },
  {
   "cell_type": "code",
   "execution_count": 6,
   "id": "5b55243b-8b45-4371-890e-b4fdec62119f",
   "metadata": {},
   "outputs": [
    {
     "data": {
      "application/vnd.jupyter.widget-view+json": {
       "model_id": "f6f7a6f6f3e6456daa4a1290d6375903",
       "version_major": 2,
       "version_minor": 0
      },
      "text/plain": [
       "  0%|          | 0/100000 [00:00<?, ?it/s]"
      ]
     },
     "metadata": {},
     "output_type": "display_data"
    },
    {
     "data": {
      "application/vnd.jupyter.widget-view+json": {
       "model_id": "b55a13c3c0a3421fada3e73e6b9ada10",
       "version_major": 2,
       "version_minor": 0
      },
      "text/plain": [
       "  0%|          | 0/100000 [00:00<?, ?it/s]"
      ]
     },
     "metadata": {},
     "output_type": "display_data"
    },
    {
     "name": "stderr",
     "output_type": "stream",
     "text": [
      "IOStream.flush timed out\n"
     ]
    },
    {
     "data": {
      "application/vnd.jupyter.widget-view+json": {
       "model_id": "f84ece7705c248f9a3816f09564e004d",
       "version_major": 2,
       "version_minor": 0
      },
      "text/plain": [
       "  0%|          | 0/100000 [00:00<?, ?it/s]"
      ]
     },
     "metadata": {},
     "output_type": "display_data"
    },
    {
     "data": {
      "application/vnd.jupyter.widget-view+json": {
       "model_id": "496b943153f24fedb6001835fca48c74",
       "version_major": 2,
       "version_minor": 0
      },
      "text/plain": [
       "  0%|          | 0/100000 [00:00<?, ?it/s]"
      ]
     },
     "metadata": {},
     "output_type": "display_data"
    },
    {
     "data": {
      "application/vnd.jupyter.widget-view+json": {
       "model_id": "3ba91bbc1eec46dbab0aa5f8299d597d",
       "version_major": 2,
       "version_minor": 0
      },
      "text/plain": [
       "  0%|          | 0/100000 [00:00<?, ?it/s]"
      ]
     },
     "metadata": {},
     "output_type": "display_data"
    },
    {
     "data": {
      "application/vnd.jupyter.widget-view+json": {
       "model_id": "c4e5a8a318ed4b84a48f3e7ef6ba2181",
       "version_major": 2,
       "version_minor": 0
      },
      "text/plain": [
       "  0%|          | 0/100000 [00:00<?, ?it/s]"
      ]
     },
     "metadata": {},
     "output_type": "display_data"
    },
    {
     "name": "stdout",
     "output_type": "stream",
     "text": [
      "[[1.0893e-01 9.4320e-02]\n",
      " [1.2900e-03 1.0900e-03]\n",
      " [1.0000e-05 2.0000e-05]]\n"
     ]
    }
   ],
   "source": [
    "papal=[[probLeaderChosen(25,17,n,True), probLeaderChosen(25,17,n,False)] for n in [2,3,4]]\n",
    "print(np.matrix(papal))"
   ]
  },
  {
   "cell_type": "markdown",
   "id": "85747ab6-e136-46c9-88bb-20251a590a2b",
   "metadata": {},
   "source": [
    "The values are close to the output provided on page 201 of the book."
   ]
  }
 ],
 "metadata": {
  "kernelspec": {
   "display_name": "Python 3 (ipykernel)",
   "language": "python",
   "name": "python3"
  },
  "language_info": {
   "codemirror_mode": {
    "name": "ipython",
    "version": 3
   },
   "file_extension": ".py",
   "mimetype": "text/x-python",
   "name": "python",
   "nbconvert_exporter": "python",
   "pygments_lexer": "ipython3",
   "version": "3.7.4"
  }
 },
 "nbformat": 4,
 "nbformat_minor": 5
}
