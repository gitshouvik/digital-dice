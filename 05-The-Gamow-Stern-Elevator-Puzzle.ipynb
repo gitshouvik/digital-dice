{
 "cells": [
  {
   "cell_type": "code",
   "execution_count": 8,
   "id": "9a76f0e4-01e8-4738-9a5b-246b7d560a81",
   "metadata": {},
   "outputs": [],
   "source": [
    "# we will use the tqdm progress bar\n",
    "from tqdm.auto import tqdm,trange"
   ]
  },
  {
   "cell_type": "markdown",
   "id": "164dd060-82fb-46ab-a2ad-406238f0bdf1",
   "metadata": {},
   "source": [
    "## 5. The Gamow-Stern Elevator Puzzle\n",
    "\n",
    "An amusing mathematical problem was devised by George Gamow and Marvin Stern, after they had been somewhat frustrated by the elevator service in their ofﬁce building. Gamow’s ofﬁce was on the second ﬂoor and Stern’s on the sixth ﬂoor of a seven-story building. Gamow noted that, whenever he wished to visit Stern, the ﬁrst elevator to arrive at the second ﬂoor was almost always “going down’’ not up. It seemed as though new elevators were being created at the top ﬂoor and destroyed at the ground ﬂoor, since no elevator ever would bypass the second ﬂoor intentionally on its way up. But when waiting for a descending elevator on the sixth ﬂoor, precisely the opposite effect was observed; the ﬁrst elevator to pass was almost always “going up’’! \n",
    "\n",
    "When there is more than one elevator, Gamow and Stern say that “the situation will, of course, remain the same.’’ But this is not true! Many a mathematician has fallen into a similar trap, being misled by something which seems self-evident, and nearly every example of faulty reasoning that has been published is accompanied by the phrase “of course’’ or its equivalent.\n",
    "\n",
    "Knuth demonstrated that if there are two independent elevators, then the ﬁrst elevator to arrive at Gamow’s ﬂoor will be going down with probability 13/18, which is not equal to 5/6 = 15/18. Check Knuth’s calculation with a Monte Carlo simulation."
   ]
  },
  {
   "cell_type": "code",
   "execution_count": 2,
   "id": "79e0c159-f0bf-4b0c-ba9e-5acec893c7bb",
   "metadata": {},
   "outputs": [
    {
     "data": {
      "application/vnd.jupyter.widget-view+json": {
       "model_id": "2a15a60c03924ad9b7c3eaacc69f0936",
       "version_major": 2,
       "version_minor": 0
      },
      "text/plain": [
       "  0%|          | 0/1000000 [00:00<?, ?it/s]"
      ]
     },
     "metadata": {},
     "output_type": "display_data"
    },
    {
     "data": {
      "text/plain": [
       "0.833366"
      ]
     },
     "execution_count": 2,
     "metadata": {},
     "output_type": "execute_result"
    }
   ],
   "source": [
    "# single elevator\n",
    "\n",
    "import numpy as np\n",
    "\n",
    "sims = 10**6\n",
    "goingDown = 0\n",
    "gamow = 2\n",
    "\n",
    "for i in trange(sims) :\n",
    "    loc = np.random.randint(1, 8) # elevator's location\n",
    "    while loc == gamow : # remove 2 from the sample space i.e. the elevator is never *at* Gamow's floor\n",
    "        loc = np.random.randint(1, 8)\n",
    "    if loc > gamow :\n",
    "        goingDown += 1\n",
    "\n",
    "goingDown/sims"
   ]
  },
  {
   "cell_type": "code",
   "execution_count": 6,
   "id": "6b6a7945-d179-4eee-976d-08284b5c4889",
   "metadata": {},
   "outputs": [
    {
     "data": {
      "text/plain": [
       "0.8333333333333334"
      ]
     },
     "execution_count": 6,
     "metadata": {},
     "output_type": "execute_result"
    }
   ],
   "source": [
    "# analytical result\n",
    "5/6"
   ]
  },
  {
   "cell_type": "code",
   "execution_count": 4,
   "id": "9684aa28-e8a0-49ba-aa30-4ec94942250a",
   "metadata": {},
   "outputs": [
    {
     "data": {
      "application/vnd.jupyter.widget-view+json": {
       "model_id": "e1c0ac82ac434140a010fbd2fa624487",
       "version_major": 2,
       "version_minor": 0
      },
      "text/plain": [
       "  0%|          | 0/1000000 [00:00<?, ?it/s]"
      ]
     },
     "metadata": {},
     "output_type": "display_data"
    },
    {
     "data": {
      "text/plain": [
       "0.721993"
      ]
     },
     "execution_count": 4,
     "metadata": {},
     "output_type": "execute_result"
    }
   ],
   "source": [
    "# two elevators\n",
    "sims = 10**6\n",
    "goingDown = 0\n",
    "gamow = 2\n",
    "\n",
    "for i in trange(sims) :\n",
    "    # generate random locations of the two elevators\n",
    "    loc1 = np.random.randint(1, 8)\n",
    "    loc2 = np.random.randint(1, 8)\n",
    "    # remove the possibility that the elevator is at Gamow's floor\n",
    "    while loc1 == gamow :\n",
    "        loc1 = np.random.randint(1, 8)\n",
    "    while loc2 == gamow :\n",
    "        loc2 = np.random.randint(1, 8)\n",
    "    \n",
    "    # if both elevators are above Gamow's floor\n",
    "    if loc1 > gamow and loc2 > gamow:\n",
    "        goingDown += 1\n",
    "    # if the first elevator is above and the second below\n",
    "    elif loc1 > gamow and loc2 < gamow:\n",
    "        # the first elevator arrives earlier\n",
    "        if loc1-gamow < gamow - loc2 :\n",
    "            goingDown += 1\n",
    "        elif loc1-gamow == gamow - loc2 :\n",
    "            goingDown += 0.5   # simultaneous arrival\n",
    "    # if the second elevator is above and the first below\n",
    "    elif loc2 > gamow and loc1 < gamow:\n",
    "        # the second elevator arrives earlier\n",
    "        if loc2-gamow < gamow - loc1 :\n",
    "            goingDown += 1     \n",
    "        elif loc2-gamow == gamow - loc1 :\n",
    "            goingDown += 0.5    # simultaneous arrival\n",
    "\n",
    "goingDown/sims"
   ]
  },
  {
   "cell_type": "code",
   "execution_count": 7,
   "id": "62566462-3088-4923-82fe-14021383bd4a",
   "metadata": {},
   "outputs": [
    {
     "data": {
      "text/plain": [
       "0.7222222222222222"
      ]
     },
     "execution_count": 7,
     "metadata": {},
     "output_type": "execute_result"
    }
   ],
   "source": [
    "# analytical result\n",
    "13/18"
   ]
  }
 ],
 "metadata": {
  "kernelspec": {
   "display_name": "Python 3 (ipykernel)",
   "language": "python",
   "name": "python3"
  },
  "language_info": {
   "codemirror_mode": {
    "name": "ipython",
    "version": 3
   },
   "file_extension": ".py",
   "mimetype": "text/x-python",
   "name": "python",
   "nbconvert_exporter": "python",
   "pygments_lexer": "ipython3",
   "version": "3.7.4"
  }
 },
 "nbformat": 4,
 "nbformat_minor": 5
}
