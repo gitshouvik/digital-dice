{
 "cells": [
  {
   "cell_type": "code",
   "execution_count": 1,
   "id": "9a76f0e4-01e8-4738-9a5b-246b7d560a81",
   "metadata": {},
   "outputs": [],
   "source": [
    "# we will use the tqdm progress bar\n",
    "from tqdm.auto import tqdm,trange"
   ]
  },
  {
   "cell_type": "markdown",
   "id": "89e4630d-9f7f-43fe-a470-c5da4aa179d3",
   "metadata": {},
   "source": [
    "## 2. Will Lil and Bill Meet at the Malt Shop?\n",
    "\n",
    "Lil and Bill agree to meet at the malt shop sometime between 3:30\n",
    "and 4 o’clock later that afternoon. They’re pretty casual about details,\n",
    "however, because each knows that the other, while he or she will show\n",
    "up during that half-hour, is as likely to do so at any time during\n",
    "that half-hour as at any other time. If Lil arrives first, she’ll wait five\n",
    "minutes for Bill, and then leave if he hasn’t appeared by then. If Bill\n",
    "arrives first, however, he’ll wait seven minutes for Lil before leaving if\n",
    "she hasn’t appeared by then. Neither will wait past 4 o’clock. What’s\n",
    "the probability that Lil and Bill meet? What’s the probability of their\n",
    "meeting if Bill reduces his waiting time to match Lil’s (i.e., if both\n",
    "waiting times are five minutes)? What’s the probability of their meeting\n",
    "if Lil increases her waiting time to match Bill’s (i.e., if both waiting\n",
    "times are seven minutes)? \n",
    "\n",
    "Analytical answers are 0.358889 and 0.412222."
   ]
  },
  {
   "cell_type": "code",
   "execution_count": 2,
   "id": "03e72d22-7e5b-4e66-a589-f5edb4215518",
   "metadata": {},
   "outputs": [
    {
     "data": {
      "application/vnd.jupyter.widget-view+json": {
       "model_id": "32ebf0099ff94e8582ae6fcd25d0dc15",
       "version_major": 2,
       "version_minor": 0
      },
      "text/plain": [
       "  0%|          | 0/1000000 [00:00<?, ?it/s]"
      ]
     },
     "metadata": {},
     "output_type": "display_data"
    },
    {
     "data": {
      "text/plain": [
       "0.35881"
      ]
     },
     "execution_count": 2,
     "metadata": {},
     "output_type": "execute_result"
    }
   ],
   "source": [
    "import numpy as np\n",
    "\n",
    "sims = 10**6\n",
    "meets = 0\n",
    "for i in trange(sims) :\n",
    "    # generate random arrival times for Lil and Bill\n",
    "    lil = np.random.uniform(low=0.0, high=30.0)\n",
    "    bill = np.random.uniform(low=0.0, high=30.0)\n",
    "    # if Lil arrives before Bill\n",
    "    if lil < bill and lil + 5 >= bill : \n",
    "        meets += 1\n",
    "    # if Bill arrives before Lil\n",
    "    elif bill < lil and bill + 7 >= lil : \n",
    "        meets += 1\n",
    "\n",
    "meets/sims"
   ]
  },
  {
   "cell_type": "code",
   "execution_count": 4,
   "id": "ce06f4e2-7788-4c01-82da-53ebfd31b9c5",
   "metadata": {},
   "outputs": [
    {
     "data": {
      "application/vnd.jupyter.widget-view+json": {
       "model_id": "062727d1da1d467492092640e4265659",
       "version_major": 2,
       "version_minor": 0
      },
      "text/plain": [
       "  0%|          | 0/1000000 [00:00<?, ?it/s]"
      ]
     },
     "metadata": {},
     "output_type": "display_data"
    },
    {
     "data": {
      "text/plain": [
       "0.411877"
      ]
     },
     "execution_count": 4,
     "metadata": {},
     "output_type": "execute_result"
    }
   ],
   "source": [
    "# if both wait for 7 minutes\n",
    "\n",
    "sims = 10**6\n",
    "meets = 0\n",
    "for i in trange(sims) :\n",
    "    # generate random arrival times for Lil and Bill\n",
    "    lil = np.random.uniform(low=0.0, high=30.0)\n",
    "    bill = np.random.uniform(low=0.0, high=30.0)\n",
    "    # if Lil arrives before Bill\n",
    "    if lil < bill and lil + 7 >= bill : \n",
    "        meets += 1\n",
    "    # if Bill arrives before Lil\n",
    "    elif bill < lil and bill + 7 >= lil : \n",
    "        meets += 1\n",
    "        \n",
    "meets/sims"
   ]
  }
 ],
 "metadata": {
  "kernelspec": {
   "display_name": "Python 3 (ipykernel)",
   "language": "python",
   "name": "python3"
  },
  "language_info": {
   "codemirror_mode": {
    "name": "ipython",
    "version": 3
   },
   "file_extension": ".py",
   "mimetype": "text/x-python",
   "name": "python",
   "nbconvert_exporter": "python",
   "pygments_lexer": "ipython3",
   "version": "3.7.4"
  }
 },
 "nbformat": 4,
 "nbformat_minor": 5
}
