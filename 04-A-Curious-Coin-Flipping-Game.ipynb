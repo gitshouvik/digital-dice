{
 "cells": [
  {
   "cell_type": "code",
   "execution_count": 8,
   "id": "9a76f0e4-01e8-4738-9a5b-246b7d560a81",
   "metadata": {},
   "outputs": [],
   "source": [
    "# we will use the tqdm progress bar\n",
    "from tqdm.auto import tqdm,trange"
   ]
  },
  {
   "cell_type": "markdown",
   "id": "6f52aa73-1375-408a-bd48-42b31dd6456e",
   "metadata": {},
   "source": [
    "## 4. A curious coin-flipping game \n",
    "\n",
    "Three men have respectively l, m, and n coins. When playing, each man selects one of his\n",
    "coins, and then all three simultaneously flip. If two coins show the same\n",
    "side and the third coin shows the opposite side, then the two men\n",
    "whose coins matched give those coins to the odd man out. If three\n",
    "heads or three tails is the outcome, however, nobody wins or loses on\n",
    "that toss. This process continues until one of the men loses his last\n",
    "coin. Notice that when you lose, you lose one coin, but when you win,\n",
    "you win two coins.\n",
    "Write a Monte Carlo simulation that accepts values for l, m, and n,\n",
    "and then plays a large number of toss sequences, keeping track for\n",
    "each sequence of the number of tosses until one of the men goes broke\n",
    "(or, as mathematicians usually put it, is ruined). Find the average number of tosses required until\n",
    "one man is forced out of the game. Write your code so that, along with the values of l, m,\n",
    "and n, the value of p (probability of showing heads) is also an input parameter."
   ]
  },
  {
   "cell_type": "code",
   "execution_count": 2,
   "id": "9ed2cf83-366d-49ef-b907-bc8be4aa7f9c",
   "metadata": {},
   "outputs": [],
   "source": [
    "import numpy as np\n",
    "\n",
    "# a function to translate random numbers to coin toss outcomes\n",
    "# the coin shows heads with probability p\n",
    "def toss(r, p) :\n",
    "    if r <= p :\n",
    "        return 0 # heads\n",
    "    else :\n",
    "        return 1 # tails\n",
    "    \n",
    "\n",
    "def flip(ll, mm, nn, p) :\n",
    "    sims = 10**5\n",
    "    totalTosses = 0\n",
    "    for i in trange(sims) :\n",
    "        l = ll\n",
    "        m = mm\n",
    "        n = nn\n",
    "        while l!=0 and m!=0 and n!=0 :\n",
    "            totalTosses += 1\n",
    "            \n",
    "            # generate 3 random tosses\n",
    "            [a, b, c] = np.random.uniform(low=0.0, high=1.0, size=3) \n",
    "            [t1, t2, t3] = [toss(a,p), toss(b,p), toss(c,p)]\n",
    "        \n",
    "            if t1 == t2 and t2 != t3 :\n",
    "                l -= 1\n",
    "                m -= 1\n",
    "                n += 2  # the 3rd person gets the coins from the other two\n",
    "            elif t2 == t3 and t2 != t1 :\n",
    "                l += 2\n",
    "                m -= 1\n",
    "                n -= 1\n",
    "            elif t1 == t3 and t2 != t1 :\n",
    "                l -= 1\n",
    "                m += 2\n",
    "                n -= 1\n",
    "            else :\n",
    "                continue\n",
    "            \n",
    "            \n",
    "    return totalTosses/sims"
   ]
  },
  {
   "cell_type": "code",
   "execution_count": 3,
   "id": "291c8152-01d5-46be-9884-a4d9e4a8069c",
   "metadata": {},
   "outputs": [
    {
     "data": {
      "application/vnd.jupyter.widget-view+json": {
       "model_id": "b4ad06304e504c65b40500f9b1fd4491",
       "version_major": 2,
       "version_minor": 0
      },
      "text/plain": [
       "  0%|          | 0/100000 [00:00<?, ?it/s]"
      ]
     },
     "metadata": {},
     "output_type": "display_data"
    },
    {
     "data": {
      "text/plain": [
       "2.00321"
      ]
     },
     "execution_count": 3,
     "metadata": {},
     "output_type": "execute_result"
    }
   ],
   "source": [
    "flip(1,2,3,0.5)"
   ]
  },
  {
   "cell_type": "code",
   "execution_count": 4,
   "id": "aa8cf1a4-8ded-4b0b-943a-c68cbefc6d7f",
   "metadata": {},
   "outputs": [
    {
     "data": {
      "application/vnd.jupyter.widget-view+json": {
       "model_id": "3ac78f679bbf446abc89a665bf68a045",
       "version_major": 2,
       "version_minor": 0
      },
      "text/plain": [
       "  0%|          | 0/100000 [00:00<?, ?it/s]"
      ]
     },
     "metadata": {},
     "output_type": "display_data"
    },
    {
     "data": {
      "text/plain": [
       "1.33217"
      ]
     },
     "execution_count": 4,
     "metadata": {},
     "output_type": "execute_result"
    }
   ],
   "source": [
    "flip(1,1,1,0.5)"
   ]
  },
  {
   "cell_type": "code",
   "execution_count": 5,
   "id": "1d06b3a9-f84d-4de3-a749-0105d2eaf1e3",
   "metadata": {},
   "outputs": [
    {
     "data": {
      "application/vnd.jupyter.widget-view+json": {
       "model_id": "d876d530abef4a0993974f29385bbbd7",
       "version_major": 2,
       "version_minor": 0
      },
      "text/plain": [
       "  0%|          | 0/100000 [00:00<?, ?it/s]"
      ]
     },
     "metadata": {},
     "output_type": "display_data"
    },
    {
     "data": {
      "text/plain": [
       "5.12945"
      ]
     },
     "execution_count": 5,
     "metadata": {},
     "output_type": "execute_result"
    }
   ],
   "source": [
    "flip(3,3,3,0.5)"
   ]
  },
  {
   "cell_type": "code",
   "execution_count": 6,
   "id": "b515e7d4-5251-4eed-80b6-c068218237cf",
   "metadata": {},
   "outputs": [
    {
     "data": {
      "application/vnd.jupyter.widget-view+json": {
       "model_id": "5390dd6836b14ca7a367f38a38834b24",
       "version_major": 2,
       "version_minor": 0
      },
      "text/plain": [
       "  0%|          | 0/100000 [00:00<?, ?it/s]"
      ]
     },
     "metadata": {},
     "output_type": "display_data"
    },
    {
     "data": {
      "text/plain": [
       "18.66577"
      ]
     },
     "execution_count": 6,
     "metadata": {},
     "output_type": "execute_result"
    }
   ],
   "source": [
    "flip(4,7,9,0.5)"
   ]
  },
  {
   "cell_type": "code",
   "execution_count": 7,
   "id": "38c5463f-f4cd-4bf8-a68c-f157b9eab37a",
   "metadata": {},
   "outputs": [
    {
     "data": {
      "application/vnd.jupyter.widget-view+json": {
       "model_id": "9d0f41cecd8148f083967355e567392b",
       "version_major": 2,
       "version_minor": 0
      },
      "text/plain": [
       "  0%|          | 0/100000 [00:00<?, ?it/s]"
      ]
     },
     "metadata": {},
     "output_type": "display_data"
    },
    {
     "data": {
      "text/plain": [
       "19.38792"
      ]
     },
     "execution_count": 7,
     "metadata": {},
     "output_type": "execute_result"
    }
   ],
   "source": [
    "flip(4,7,9,0.4)"
   ]
  },
  {
   "cell_type": "markdown",
   "id": "8498c44a-090f-4c82-8b6d-1e94ca924c9c",
   "metadata": {},
   "source": [
    "The simulation results are in good agreement with the table on page 117 of the book."
   ]
  }
 ],
 "metadata": {
  "kernelspec": {
   "display_name": "Python 3 (ipykernel)",
   "language": "python",
   "name": "python3"
  },
  "language_info": {
   "codemirror_mode": {
    "name": "ipython",
    "version": 3
   },
   "file_extension": ".py",
   "mimetype": "text/x-python",
   "name": "python",
   "nbconvert_exporter": "python",
   "pygments_lexer": "ipython3",
   "version": "3.7.4"
  }
 },
 "nbformat": 4,
 "nbformat_minor": 5
}
